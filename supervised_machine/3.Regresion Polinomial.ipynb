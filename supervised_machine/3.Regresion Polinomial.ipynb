{
 "cells": [
  {
   "cell_type": "markdown",
   "metadata": {
    "colab_type": "text",
    "id": "pOywRJdXWB3h"
   },
   "source": [
    "# 3.Regresion Polinomial simple"
   ]
  },
  {
   "cell_type": "markdown",
   "metadata": {
    "colab_type": "text",
    "id": "7Z7H0mGVWkEm"
   },
   "source": [
    "## 3.0 Introduccion"
   ]
  },
  {
   "cell_type": "markdown",
   "metadata": {
    "colab_type": "text",
    "id": "c_09NmJSWrFe"
   },
   "source": [
    "La regresion polinomial simple modela la relacion entre una variable explicativa (**$x_1$**) y una variable respuesta (**$y$**) , esto de una forma polinomica.\n",
    "\n",
    "El modelo de la regresion polinomial es:\n",
    "\n",
    "\\begin{equation}\n",
    "y=a+b_1x_1+b_2x_1^2+...+b_nx_1^n\n",
    "\\end{equation}\n",
    "\n",
    "\n",
    "Este modelo lo podemos expresar de manera matricial:\n",
    "\n",
    "\\begin{equation}\n",
    "\\begin{bmatrix}\n",
    "y_1 \\\\\n",
    "y_2  \\\\\n",
    ".\\\\\n",
    ".\\\\\n",
    ". \\\\\n",
    "y_m\n",
    "\\end{bmatrix}\n",
    "=\n",
    "\\begin{bmatrix}\n",
    "a +{b_1}x_{11}+{b_2}x_{11}^2+...+{b_n}x_{11}^n\\\\\n",
    "a +{b_1}x_{12}+{b_2}x_{12}^2+...+{b_n}x_{12}^n\\\\\n",
    ".\\\\\n",
    ".\\\\\n",
    ".\\\\\n",
    "a +{b_1}x_{1m}+{b_2}x_{1m}^2+...+{b_n}x_{1m}^n\n",
    "\\end{bmatrix}\n",
    "=\n",
    "\\begin{bmatrix}\n",
    "1 &x_{11}& x_{11}^2 & ... &x_{11}^n\\\\\n",
    "1 &x_{12}& x_{12}^2 & ... &x_{12}^n\\\\\n",
    ". & . & . & ... & .\\\\\n",
    ". & . & . & ... & .\\\\\n",
    ". & . & . & ... & .\\\\\n",
    "1 &x_{1m}& x_{1m}^2 & ... &x_{1m}^n\n",
    "\\end{bmatrix}\n",
    "X\n",
    "\\begin{bmatrix}\n",
    "a \\\\\n",
    "b_1 \\\\\n",
    "b_2 \\\\\n",
    ".\\\\\n",
    ".\\\\\n",
    ".\\\\\n",
    "b_n\n",
    "\\end{bmatrix}\n",
    "    .......(1)\n",
    "\\end{equation}\n",
    "\n",
    "\\begin{equation}\n",
    "Y=XB\n",
    "\\end{equation}\n",
    "\n",
    "Donde:\n",
    "\n",
    "$Y:$ Es la matriz con la data de entrenamiento de la variable respuesta es del orden $m$X$1$\n",
    "\n",
    "$X:$ Es la matriz que contine la data de entrenamiento de las variables de explicativas , tiene adicionalmente una columna de unos. Es del orden $m$X$(n+1)$\n",
    "\n",
    "$B:$ Es la matriz que contine los parametros de nuestro modelo , nosotros necesitaremos hallar esta, es del orden de $(n+1)$X$1$\n",
    "\n",
    "$x_{1j}:$ Es el valor j-enesimo de la data de entrenamiento de la variable explicativa 1.\n",
    "\n",
    "$m:$ Es el numero de muestras de la data de entrenamiento.\n",
    "\n",
    "$n:$ El grado del polinomio usado en el modelo.\n",
    "\n",
    "Una vez planteado el modelo a utilizar , se debera encontrar los parametros que le corresponde. Para la regresion lineal consiste en conocer la matriz $B$.Para calcularla debemos minimizar la funcion de coste la cual es ***Suma residual de cuadrados***.\n",
    "\\begin{equation}\n",
    "SS_{res}={\\sum_{i=1}^m}(y_i-(a+b_1x_1+b_2x_1^2+...+b_nx_1^n))^2\n",
    "\\end{equation}\n",
    "\\begin{equation}\n",
    "\\end{equation}\n",
    "\n",
    "Para resolver esto tenemos veremos dos metodos de optimizacion :\n",
    "\n",
    "*   ***Optimizacion analitica ( Minimos cuadrados )***\n",
    "*   ***Optimizacion Machine learning ( Descenso de gradiente )***"
   ]
  },
  {
   "cell_type": "markdown",
   "metadata": {
    "colab_type": "text",
    "id": "yIq6a9qUW2bO"
   },
   "source": [
    "## 3.1 Optimizacion analitica ( Minimos cuadrados )"
   ]
  },
  {
   "cell_type": "markdown",
   "metadata": {
    "colab_type": "text",
    "id": "nDTVSnPSaGNx"
   },
   "source": [
    "Como podemos notar la solucion de la expresion $(1)$ es :\n",
    "\n",
    "\n",
    "\\begin{equation}\n",
    "B=\n",
    "\\begin{bmatrix}\n",
    "a \\\\\n",
    "b_1\\\\\n",
    "b_2\\\\\n",
    ".\\\\\n",
    ".\\\\\n",
    ".\\\\\n",
    "b_n\n",
    "\\end{bmatrix}\n",
    "=(X^T X)^{-1}X^T Y .......(2)\n",
    "\\end{equation}"
   ]
  },
  {
   "cell_type": "markdown",
   "metadata": {
    "colab_type": "text",
    "id": "YNgreIWlaer-"
   },
   "source": [
    "### 3.1.0 Ejemplo 1"
   ]
  },
  {
   "cell_type": "markdown",
   "metadata": {
    "colab_type": "text",
    "id": "63W1dSHoa_x-"
   },
   "source": [
    "#### 3.1.0.0 Numpy"
   ]
  },
  {
   "cell_type": "code",
   "execution_count": 1,
   "metadata": {
    "colab": {
     "base_uri": "https://localhost:8080/",
     "height": 108
    },
    "colab_type": "code",
    "executionInfo": {
     "elapsed": 1303,
     "status": "ok",
     "timestamp": 1586045708853,
     "user": {
      "displayName": "edwin mendoza",
      "photoUrl": "https://lh3.googleusercontent.com/a-/AOh14GgYiuSYYdnLb0yvl2k2Dj4GsIz-Vrc1g-3kM66h=s64",
      "userId": "06661154623699995725"
     },
     "user_tz": 300
    },
    "id": "nsCBtpKAaLNf",
    "outputId": "8ea57d5a-d8d5-4396-a065-01f1a18b9f1c"
   },
   "outputs": [
    {
     "name": "stdout",
     "output_type": "stream",
     "text": [
      "Coeficiente independiente: 3.3195924585574446\n",
      "Tangente_1: 5.51799748773017\n",
      "Tangente_2: 6.93393928550238\n",
      "0.9725970481204703\n",
      "0.9723174261625159\n"
     ]
    }
   ],
   "source": [
    "import numpy as np\n",
    "from sklearn.datasets import make_regression\n",
    "import matplotlib.pyplot as plt\n",
    "from random import randint, uniform,random\n",
    "from numpy.linalg import inv\n",
    "from numpy import dot, transpose\n",
    "\n",
    "# Creación de data de entrenamiento\n",
    "\n",
    "feature=2 \n",
    "n_datos=100\n",
    "\n",
    "X=[]\n",
    "y=[]\n",
    "X_np = np.linspace(0, 2, n_datos) + np.random.randn(1,n_datos)[0] *1.5\n",
    "y_np = 7*(X_np**2) + 5*(X_np) + 3 +np.random.randn(1,n_datos)[0] * 10\n",
    "\n",
    "for i in np.arange(n_datos):\n",
    "  X.append( [1] + [X_np[i]] + [X_np[i]**2] )\n",
    "  y.append( [y_np[i]] ) \n",
    "\n",
    "#Data de entrenamiento\n",
    "X_train=X[0:80]\n",
    "y_train=y[0:80]\n",
    "\n",
    "#Data de teste\n",
    "X_test=X_np[80:100]\n",
    "y_test=y_np[80:100]\n",
    "\n",
    "[[a],[b_1],[b_2]] = dot(inv(dot(transpose(X_train), X_train)), dot(transpose(X_train), y_train))\n",
    "\n",
    "print('Coeficiente independiente: '+str(a))\n",
    "print('Tangente_1: '+str(b_1) )\n",
    "print('Tangente_2: '+str(b_2) )\n",
    "\n",
    "\n",
    "prediccion= b_2*(X_test**2)+b_1*(X_test)+a\n",
    "prom_y=sum(y_test)/len(y_test)\n",
    "\n",
    "SS_res=sum((y_test-prediccion)**2)\n",
    "SS_tot=sum((y_test-prom_y)**2)\n",
    "\n",
    "R_2=1-(SS_res/SS_tot)\n",
    "R_2_a=1-(1-R_2)*( (100-1)/(100-1-1) )\n",
    "print(R_2)\n",
    "print(R_2_a)"
   ]
  },
  {
   "cell_type": "markdown",
   "metadata": {
    "colab_type": "text",
    "id": "i2cWtLSEbH0Y"
   },
   "source": [
    "  #### 3.1.0.1 Sklearn"
   ]
  },
  {
   "cell_type": "code",
   "execution_count": 5,
   "metadata": {
    "colab": {
     "base_uri": "https://localhost:8080/",
     "height": 349
    },
    "colab_type": "code",
    "executionInfo": {
     "elapsed": 1168,
     "status": "ok",
     "timestamp": 1586046312545,
     "user": {
      "displayName": "edwin mendoza",
      "photoUrl": "https://lh3.googleusercontent.com/a-/AOh14GgYiuSYYdnLb0yvl2k2Dj4GsIz-Vrc1g-3kM66h=s64",
      "userId": "06661154623699995725"
     },
     "user_tz": 300
    },
    "id": "sDcHBPaEZ9SR",
    "outputId": "96b2e78e-2536-4201-b4e7-ff44a0426291"
   },
   "outputs": [
    {
     "name": "stdout",
     "output_type": "stream",
     "text": [
      "coeficiente independiente: 0.26144927397761664\n",
      "Coeficiente de la primera variable explicativa: 1.506360715542261\n",
      "Coeficiente de la segunda variable explicativa: 1.034331405809431\n"
     ]
    },
    {
     "data": {
      "image/png": "[encoded data removed]",
      "text/plain": [
       "<Figure size 432x288 with 1 Axes>"
      ]
     },
     "metadata": {
      "tags": []
     },
     "output_type": "display_data"
    }
   ],
   "source": [
    "from sklearn.linear_model import LinearRegression\n",
    "from sklearn.preprocessing import PolynomialFeatures\n",
    "from sklearn.metrics import mean_squared_error, r2_score\n",
    "\n",
    "n_datos=100\n",
    "X=[]\n",
    "y=[]\n",
    "X_np = np.linspace(-2, 2, n_datos) + np.random.randn(1,n_datos)[0] * 1.0\n",
    "y_np = 0.4 +1.5 * X_np +1 * (X_np**2) +np.random.randn(1,n_datos)[0] * 1.5\n",
    "\n",
    "for i in np.arange(n_datos):\n",
    "  X.append( [X_np[i]] )\n",
    "  y.append( [y_np[i]] ) \n",
    "\n",
    "#Data de entrenamiento\n",
    "X_train=X[0:80]\n",
    "y_train=y[0:80]\n",
    "\n",
    "\n",
    "#### Probar     print(X_train[1])\n",
    "\n",
    "#Data de teste\n",
    "X_test=X[80:100]\n",
    "y_test=y[80:100]\n",
    "\n",
    "quadratic_featurizer = PolynomialFeatures(degree=2)\n",
    "X_train_quadratic = quadratic_featurizer.fit_transform(X_train)\n",
    "#### Probar     print(X_train_quadratic[1])\n",
    "X_test_quadratic = quadratic_featurizer.transform(X_test)\n",
    "regressor_quadratic = LinearRegression()\n",
    "regressor_quadratic.fit(X_train_quadratic, y_train)\n",
    "parametros=regressor_quadratic.coef_\n",
    "a=regressor_quadratic.intercept_[0]\n",
    "b_1=parametros[0][1]\n",
    "b_2=parametros[0][2]\n",
    "print('coeficiente independiente: '+ str(a))\n",
    "print('Coeficiente de la primera variable explicativa: ' + str(b_1))\n",
    "print('Coeficiente de la segunda variable explicativa: ' + str(b_2))\n",
    "\n",
    "prediccion=regressor_quadratic.predict(X_test_quadratic)\n",
    "R_2=regressor_quadratic.score(X_test_quadratic, y_test)\n",
    "\n",
    "maxX=max(X_np)\n",
    "minX=min(X_np)\n",
    "\n",
    "maxY=max(y_np)\n",
    "minY=min(y_np)\n",
    "\n",
    "xx = np.linspace(minX, maxX, 100)\n",
    "yy = a + b_1*xx + b_2*(xx**2)\n",
    "\n",
    "plt.plot(xx,yy)\n",
    "plt.plot(X_test,y_test , 'b+')\n",
    "plt.plot(X_train,y_train , 'g.')\n",
    "plt.title('Regresion polinomial simple , R^2 = '+str(R_2))\n",
    "plt.xlabel('X')\n",
    "plt.ylabel('Y')\n",
    "plt.axis([minX, maxX, minY, maxY])\n",
    "plt.grid(True)\n",
    "plt.show()"
   ]
  },
  {
   "cell_type": "markdown",
   "metadata": {
    "colab_type": "text",
    "id": "_QCugFOeqsCI"
   },
   "source": [
    "### 3.1.1 Ejemplo 2"
   ]
  },
  {
   "cell_type": "code",
   "execution_count": 6,
   "metadata": {
    "colab": {
     "base_uri": "https://localhost:8080/",
     "height": 331
    },
    "colab_type": "code",
    "executionInfo": {
     "elapsed": 1692,
     "status": "ok",
     "timestamp": 1586046575184,
     "user": {
      "displayName": "edwin mendoza",
      "photoUrl": "https://lh3.googleusercontent.com/a-/AOh14GgYiuSYYdnLb0yvl2k2Dj4GsIz-Vrc1g-3kM66h=s64",
      "userId": "06661154623699995725"
     },
     "user_tz": 300
    },
    "id": "iU1_MhG6JqOy",
    "outputId": "e7c0907c-e655-4864-fee3-d57f2bc461ed"
   },
   "outputs": [
    {
     "data": {
      "image/png": "[encoded data removed]",
      "text/plain": [
       "<Figure size 432x288 with 1 Axes>"
      ]
     },
     "metadata": {
      "tags": []
     },
     "output_type": "display_data"
    },
    {
     "name": "stdout",
     "output_type": "stream",
     "text": [
      "Simple linear regression r-squared 0.809726797707665\n",
      "Quadratic regression r-squared 0.8675443656345054\n"
     ]
    }
   ],
   "source": [
    "import numpy as np\n",
    "import matplotlib.pyplot as plt\n",
    "from sklearn.linear_model import LinearRegression\n",
    "from sklearn.preprocessing import PolynomialFeatures\n",
    "\n",
    "#Datos para la regresion\n",
    "X_train = [[6], [8], [10], [14], [18]]\n",
    "y_train = [[7], [9], [13], [17.5], [18]]\n",
    "X_test = [[6], [8], [11], [16]]\n",
    "y_test = [[8], [12], [15], [18]]\n",
    "\n",
    "#Grafica de la regresion lineal\n",
    "regressor = LinearRegression()\n",
    "regressor.fit(X_train, y_train)\n",
    "xx = np.linspace(0, 26, 100)\n",
    "###Prediccion=model.predict([[NewDiametro]])### ,ver colab 2\n",
    "###print(xx.reshape(xx.shape[0], 1))###\n",
    "yy = regressor.predict(xx.reshape(xx.shape[0], 1))\n",
    "plt.plot(xx, yy)\n",
    "\n",
    "\n",
    "#Grafica de la regresion polinomial grado 2\n",
    "quadratic_featurizer = PolynomialFeatures(degree=2)\n",
    "X_train_quadratic = quadratic_featurizer.fit_transform(X_train)\n",
    "X_test_quadratic = quadratic_featurizer.transform(X_test)\n",
    "regressor_quadratic = LinearRegression()\n",
    "regressor_quadratic.fit(X_train_quadratic, y_train)\n",
    "xx_quadratic = quadratic_featurizer.transform(xx.reshape(xx.shape[0], 1))\n",
    "\n",
    "\n",
    "\n",
    "plt.plot(xx, regressor_quadratic.predict(xx_quadratic), c='r',linestyle='--')\n",
    "plt.title('Pizza price regressed on diameter')\n",
    "plt.xlabel('Diameter in inches')\n",
    "plt.ylabel('Price in dollars')\n",
    "plt.axis([0, 25, 0, 25])\n",
    "plt.grid(True)\n",
    "plt.scatter(X_train, y_train)\n",
    "plt.scatter(X_test, y_test)\n",
    "plt.show()\n",
    "print ('Simple linear regression r-squared', regressor.score(X_test, y_test))\n",
    "print ('Quadratic regression r-squared', regressor_quadratic.\n",
    "score(X_test_quadratic, y_test))"
   ]
  },
  {
   "cell_type": "markdown",
   "metadata": {
    "colab_type": "text",
    "id": "Pq3_68sRYFiZ"
   },
   "source": [
    "## 3.2 Optimizacion Machine learning ( Descenso de gradiente )"
   ]
  },
  {
   "cell_type": "code",
   "execution_count": 1,
   "metadata": {
    "colab": {},
    "colab_type": "code",
    "id": "9VybC-54Ye8m"
   },
   "outputs": [],
   "source": [
    "import numpy as np\n",
    "n_datos=100\n",
    "\n",
    "X = np.linspace(0, 2, n_datos) + np.random.randn(1,n_datos)[0] * 0.33\n",
    "y = 3 +1.5 * X +5 * (X**2) + np.random.randn(1,n_datos)[0] * 0.6\n",
    "\n",
    "#Data de entrenamiento\n",
    "X_train=X[0:80]\n",
    "y_train=y[0:80]\n",
    "\n",
    "#Data de teste\n",
    "X_test=X[80:100]\n",
    "X_test=X[80:100]\n",
    "y_test=y[80:100]\n"
   ]
  },
  {
   "cell_type": "code",
   "execution_count": 9,
   "metadata": {
    "colab": {
     "base_uri": "https://localhost:8080/",
     "height": 90
    },
    "colab_type": "code",
    "executionInfo": {
     "elapsed": 2134,
     "status": "ok",
     "timestamp": 1586046714784,
     "user": {
      "displayName": "edwin mendoza",
      "photoUrl": "https://lh3.googleusercontent.com/a-/AOh14GgYiuSYYdnLb0yvl2k2Dj4GsIz-Vrc1g-3kM66h=s64",
      "userId": "06661154623699995725"
     },
     "user_tz": 300
    },
    "id": "ZjOKPDP-uBWX",
    "outputId": "80d0e214-a02c-4e9d-f854-78350e0ee7f8"
   },
   "outputs": [
    {
     "name": "stdout",
     "output_type": "stream",
     "text": [
      "Resultados en 1079 pasos\n",
      "Tangente 1 : 1.6257215552536637\n",
      "Tangente 2 : 4.892630577483088\n",
      "Coeficiente independiente: 3.1082942595612972\n"
     ]
    }
   ],
   "source": [
    "#Optimizacion por Gradiente Descendente\n",
    "\n",
    "# Definición de los ajustes y parámetros iniciales\n",
    "num_steps = 10000\n",
    "learningRate = 0.1\n",
    "criteria = 1e-8\n",
    "a = 1\n",
    "b_1 = 1\n",
    "b_2 = 1\n",
    "# Proceso iterativo\n",
    "for step in range(0, num_steps):\n",
    "    a_gradient = 0\n",
    "    b_1_gradient = 0\n",
    "    b_2_gradient = 0\n",
    "    N = float(len(X_train))\n",
    "    for i in range(0, len(X_train)):\n",
    "        a_gradient   -= (2/N) * (y_train[i] - (   a + b_1 * X_train[i]+b_2 * (X_train[i]**2)   ) )\n",
    "        b_1_gradient -= (2/N) * (y_train[i] - (   a + b_1 * X_train[i]+b_2 * (X_train[i]**2)   ) ) * X_train[i]\n",
    "        b_2_gradient -= (2/N) * (y_train[i] - (   a + b_1 * X_train[i]+b_2 * (X_train[i]**2)   ) ) * (X_train[i]**2)\n",
    "\n",
    "\n",
    "    a = a - (learningRate * a_gradient)\n",
    "    b_1 = b_1 - (learningRate * b_1_gradient)\n",
    "    b_2 = b_2 - (learningRate * b_2_gradient)\n",
    "    if max(abs(learningRate * a_gradient), abs(learningRate * b_1_gradient) , abs(learningRate * b_2_gradient) ) < criteria:\n",
    "        break\n",
    "    \n",
    "# Resultados\n",
    "print('Resultados en '+str(step)+ ' pasos')\n",
    "print('Tangente 1 :',b_1)\n",
    "print('Tangente 2 :',b_2)\n",
    "print('Coeficiente independiente:',a)"
   ]
  },
  {
   "cell_type": "markdown",
   "metadata": {
    "colab_type": "text",
    "id": "6d3N02iAgrs1"
   },
   "source": [
    "# 3. Regresion Polinomial multivariable"
   ]
  },
  {
   "cell_type": "markdown",
   "metadata": {
    "colab_type": "text",
    "id": "W-I7aDXgg4LD"
   },
   "source": [
    "La regresion polinomial multivariada , usa de variables explicativas ($x_1 , x_2 , ... ,x_n$ ) para poder describir la variables respuesta ( $y$ ). Este tipo de regresion agrega combinaciones al modelo que le genera una robustes.\n",
    "\n",
    "Por ejemplo para regresion polinomial con $x_1$ y $x_2$ el modelo es:\n",
    "\n",
    "\\begin{equation}\n",
    "y=a+b_1x_1+b_2x_1^2+b_3x_2+b_4x_2^2+b_5x_1x_2\n",
    "\\end{equation}\n",
    "\n",
    "\n",
    "El nuevo termino $x_1x_2$ , es llamado interaccion. Con $n$ predictores se tiene un intercepto, $n$ terminos lineales, $n$ terminos cuadraticos y\n",
    "$n (n + 1) /2$ terminos de interaccion. Si $n = 5$ se tienen 26 terminos y con\n",
    "n = 10 se tienen 76 terminos.\n",
    "\n",
    "Este modelo lo podemos expresar de manera matricial:\n",
    "\n",
    "\\begin{equation}\n",
    "Y=XB\n",
    "\\end{equation}\n",
    "\n",
    "\n",
    "\\begin{equation}\n",
    "\\begin{bmatrix}\n",
    "y_1 \\\\\n",
    "y_2  \\\\\n",
    ".\\\\\n",
    ".\\\\\n",
    ". \\\\\n",
    "y_m\n",
    "\\end{bmatrix}\n",
    "=\n",
    "\\begin{bmatrix}\n",
    "a+b_1x_{11}+b_2x_{11}^2+b_3x_{21}+b_4x_{21}^2+b_5x_{11}x_{21}\\\\\n",
    "a+b_1x_{12}+b_2x_{12}^2+b_3x_{22}+b_4x_{22}^2+b_5x_{12}x_{22}\\\\\n",
    ".\\\\\n",
    ".\\\\\n",
    ".\\\\\n",
    "a+b_1x_{1m}+b_2x_{1m}^2+b_3x_{2m}+b_4x_{2m}^2+b_5x_{1m}x_{2m}\n",
    "\\end{bmatrix}\n",
    "=\n",
    "\\begin{bmatrix}\n",
    "1 &x_{11}& x_{11}^2 & x_{21} &x_{21}^2 &x_{11}x_{21} \\\\\n",
    "1 &x_{12}& x_{12}^2 & x_{22} &x_{22}^2 &x_{12}x_{22}\\\\\n",
    ". & . & . & . & .& .\\\\\n",
    ". & . & . & . & .& .\\\\\n",
    ". & . & . & . & .& .\\\\\n",
    "1 &x_{1m}& x_{1m}^2 & x_{2m} &x_{2m}^2 &x_{1m}x_{2m} \n",
    "\\end{bmatrix}\n",
    "X\n",
    "\\begin{bmatrix}\n",
    "a \\\\\n",
    "b_1 \\\\\n",
    "b_2 \\\\\n",
    "b_3\\\\\n",
    "b_4\\\\\n",
    "b_5\n",
    "\\end{bmatrix}\n",
    "    .......(1)\n",
    "\\end{equation}\n",
    "\n",
    "\n",
    "Una vez planteado el modelo a utilizar , se debera encontrar los parametros que le corresponde. Para la regresion polinomial simple consiste en conocer la matriz $B$.\n",
    "\n",
    "De la expresion $(1)$ antes mencionada tenemos:\n",
    "\\begin{equation}\n",
    "B=(X^T X)^{-1}X^T Y\n",
    "\\end{equation}\n",
    "\n",
    "Esta expresion es hallada al minimizar la funcion de coste\n",
    "\n",
    "$SS_{res}={\\sum_{i=1}^n}(y_i-f(x_1,x_2,...,x_n))^2$"
   ]
  }
 ],
 "metadata": {
  "colab": {
   "authorship_tag": "ABX9TyNLwEPUhhxU1mJpH51gISyY",
   "collapsed_sections": [
    "pOywRJdXWB3h",
    "7Z7H0mGVWkEm",
    "yIq6a9qUW2bO",
    "Pq3_68sRYFiZ"
   ],
   "name": "3.Regresion Polinomial.ipynb",
   "provenance": []
  },
  "kernelspec": {
   "display_name": "Python 3",
   "language": "python",
   "name": "python3"
  },
  "language_info": {
   "codemirror_mode": {
    "name": "ipython",
    "version": 3
   },
   "file_extension": ".py",
   "mimetype": "text/x-python",
   "name": "python",
   "nbconvert_exporter": "python",
   "pygments_lexer": "ipython3",
   "version": "3.7.3"
  }
 },
 "nbformat": 4,
 "nbformat_minor": 4
}
