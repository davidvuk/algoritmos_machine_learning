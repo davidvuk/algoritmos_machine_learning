{
 "cells": [
  {
   "cell_type": "markdown",
   "metadata": {
    "colab_type": "text",
    "id": "NS3cfThx4i3y"
   },
   "source": [
    "# 4. Regularización"
   ]
  },
  {
   "cell_type": "markdown",
   "metadata": {
    "colab_type": "text",
    "id": "dJdoyApn63V_"
   },
   "source": [
    "## 4.0 Introduccion"
   ]
  },
  {
   "cell_type": "markdown",
   "metadata": {
    "colab_type": "text",
    "id": "bptn3C_jAzbf"
   },
   "source": [
    "La regularizacion es un conjuntos de tecnicas que se usan para prevenir el ***Overfitting***. La regularización agrega información a un problema, a menudo en forma de penalización contra la complejidad, a un problema.\n",
    "\n",
    "El metodo de minimos cuadrados ordinario tiene como objetivo minimizar la suma de cuadros residuales ( $SS_{res}={\\sum_{i=1}^m}(y_i-F(x_1,x_2,...,x_n))^2$ ).\n",
    "\n",
    "Pero hay dos razones por las que el metodo de minimos cuadrados podria ser no adecuado para estimar modelo con variables no relevantes , es decir con poco capacidad predictora.\n",
    "\n",
    "*   ***Baja precisión en las predicciones***. El estimador a menudo presenta\n",
    "poco sesgo pero gran varianza, lo cual se traduce en un pobre poder\n",
    "predictivo sobre nuevas observaciones\n",
    "*   ***Falta de interpretabilidad***. Si se utiliza un gran número de predictores\n",
    "(necesario para tener bajo sesgo ante un problema más o menos\n",
    "complejo), sería deseable determinar un pequeño subconjunto de éstos\n",
    "con fuerte poder explicativo y predictivo, ya que con $m>>n$ el estimador no estara bien definido.\n"
   ]
  },
  {
   "cell_type": "markdown",
   "metadata": {
    "colab_type": "text",
    "id": "miuzw_VhViLP"
   },
   "source": [
    "## 4.1 Tecnica de regularizacion en modelos lineales"
   ]
  },
  {
   "cell_type": "markdown",
   "metadata": {
    "colab_type": "text",
    "id": "HlBpilfZYFr9"
   },
   "source": [
    "En la regularizacion se agrega informacion , en la funcion de costo. Con esto la suma de cuadrados residuales queda de la siguiente manera:\n",
    "\n",
    "\\begin{equation}\n",
    "RSS={\\sum_{i=1}^m}(y_i-(a+b_1x_1+b_2x_2+...+b_nx_n))^2 + φ_λ (b)\n",
    "\\end{equation}\n",
    "\n",
    "\\begin{equation}\n",
    "b=(b_1,b_2,...,b_n)\n",
    "\\end{equation}\n",
    "\n",
    "\\begin{equation}\n",
    "λ>0\n",
    "\\end{equation}\n",
    "\n",
    "\\begin{equation}\n",
    "φ_λ (b) = λ{\\sum_{j=1}^n}(φ_j(|b_j|))\n",
    "\\end{equation}\n",
    "\n",
    "Donde $φ_λ (b)$ es una funcion creciente de penalizacion que depende de $b$\n",
    "\n"
   ]
  },
  {
   "cell_type": "markdown",
   "metadata": {
    "colab_type": "text",
    "id": "D-z0l4V-wRPn"
   },
   "source": [
    "## 4.2 Familia Bridge o Tikhonov"
   ]
  },
  {
   "cell_type": "markdown",
   "metadata": {
    "colab_type": "text",
    "id": "NXe_XKzI044X"
   },
   "source": [
    "Una familia de funciones de penalizacion muy utilizada son normal $Lq$ , de la siguente forma:\n",
    "\n",
    "\\begin{equation}\n",
    "φ_λ (b) = λ{\\sum_{j=1}^n}(|b_j|^q) \n",
    "\\end{equation}\n",
    "\n",
    "Donde  $q>0$ , las mas conocidas son :\n",
    "\n",
    "*   ***Ridge*** de norma $L2$ es cuando $(q=2)$\n",
    "*   ***Lasso*** de norma $L1$ es cuando $(q=1)$\n",
    "*   ***Elastic Net*** , es una combinacion de Ridge y Lasso\n"
   ]
  },
  {
   "cell_type": "markdown",
   "metadata": {
    "colab_type": "text",
    "id": "uOmlVQ8XHyI4"
   },
   "source": [
    "### 4.2.0 Regresión Ridge\n",
    "\n",
    "\n",
    "\n"
   ]
  },
  {
   "cell_type": "markdown",
   "metadata": {
    "colab_type": "text",
    "id": "zzod3ILeIftN"
   },
   "source": [
    "Esta técnica fue propuesta originalmente por Hoerl y Kennard como un método para eludir los efectos adversos del ***problema de colinealidad en\n",
    "un modelo lineal estimado por mínimos cuadrados*** , en el contexto m < n,\n",
    "la funcion de coste es :\n",
    "\n",
    "\\begin{equation}\n",
    "RSS_{Ridge}={\\sum_{i=1}^m}(y_i-(a+b_1x_1+b_2x_2+...+b_nx_n))^2 + λ{\\sum_{i=1}^nb_j^2} \n",
    "\\end{equation}\n",
    "\n",
    "Donde la solucion :\n",
    "\n",
    "\\begin{equation}\n",
    "B^{Ridge}(λ)=(X^TX+λI_n)^{-1}X^TY\n",
    "\\end{equation}\n",
    "\\begin{equation}\n",
    "I_n=(X^TX)^{-1}(X^TX)\n",
    "\\end{equation}\n",
    "\\begin{equation}\n",
    "X=\n",
    "\\begin{bmatrix}\n",
    "x_{11}& x_{21} & ... &x_{n1}\\\\\n",
    "x_{12}& x_{22} & ... &x_{n2}\\\\\n",
    " . & . & ... & .\\\\\n",
    " . & . & ... & .\\\\\n",
    " . & . & ... & .\\\\\n",
    "x_{1m}& x_{2m} & ... &x_{nm}\n",
    "\\end{bmatrix}\n",
    "\\end{equation}\n",
    "\n",
    "\\begin{equation}\n",
    "Y=\n",
    "\\begin{bmatrix}\n",
    "y_{1}\\\\\n",
    "y_{2}\\\\\n",
    " .\\\\\n",
    " .\\\\\n",
    " .\\\\\n",
    "y_{m}\n",
    "\\end{bmatrix}\n",
    "; B^{Ridge}=\n",
    "\\begin{bmatrix}\n",
    "b_{1}\\\\\n",
    "b_{2}\\\\\n",
    " .\\\\\n",
    " .\\\\\n",
    " .\\\\\n",
    "b_{m}\n",
    "\\end{bmatrix}\n",
    "\\end{equation}\n",
    "\n",
    "\n",
    "\n",
    "\n",
    "\n",
    "\n",
    "\n"
   ]
  },
  {
   "cell_type": "markdown",
   "metadata": {
    "colab_type": "text",
    "id": "3bpjAv2eYyhB"
   },
   "source": [
    "#### 4.2.0.0 Numpy"
   ]
  },
  {
   "cell_type": "code",
   "execution_count": 6,
   "metadata": {
    "colab": {
     "base_uri": "https://localhost:8080/",
     "height": 613
    },
    "colab_type": "code",
    "executionInfo": {
     "elapsed": 1218,
     "status": "ok",
     "timestamp": 1586295472122,
     "user": {
      "displayName": "edwin mendoza",
      "photoUrl": "https://lh3.googleusercontent.com/a-/AOh14GgYiuSYYdnLb0yvl2k2Dj4GsIz-Vrc1g-3kM66h=s64",
      "userId": "06661154623699995725"
     },
     "user_tz": 300
    },
    "id": "jO_x3dsWxJ4m",
    "outputId": "cd20480a-b791-475a-d961-f61fb6281751"
   },
   "outputs": [
    {
     "name": "stdout",
     "output_type": "stream",
     "text": [
      "[[1.08548851]\n",
      " [0.65517241]]\n"
     ]
    },
    {
     "data": {
      "image/png": "[encoded data removed]",
      "text/plain": [
       "<Figure size 432x288 with 1 Axes>"
      ]
     },
     "metadata": {
      "needs_background": "light"
     },
     "output_type": "display_data"
    },
    {
     "data": {
      "image/png": "[encoded data removed]",
      "text/plain": [
       "<Figure size 432x288 with 1 Axes>"
      ]
     },
     "metadata": {
      "needs_background": "light"
     },
     "output_type": "display_data"
    }
   ],
   "source": [
    "import numpy as np\n",
    "import matplotlib.pyplot as plt\n",
    "from numpy.linalg import inv\n",
    "from numpy import dot, transpose\n",
    "\n",
    "\n",
    "X = [[6, 2], [8, 1], [10, 0], [14, 2], [18, 0]]\n",
    "y = [[7], [9], [13], [17.5], [18]]\n",
    "\n",
    "\n",
    "#L=np.linspace(0.001,100,200)\n",
    "n_alphas = 200\n",
    "L = np.logspace(-10, 3, n_alphas)\n",
    "\n",
    "cof_1_ridge=[]\n",
    "cof_2_ridge=[]\n",
    "cof_1_lineal=[]\n",
    "cof_2_lineal=[]\n",
    "\n",
    "for i in L:\n",
    "  I_L=[[i,0],[0,i]]\n",
    "  coef_ridge=dot(  inv(dot(transpose(X), X)+I_L), dot(transpose(X), y) )\n",
    "  coef_lineal=dot(inv(dot(transpose(X), X)), dot(transpose(X), y))\n",
    "  \n",
    "  cof_1_ridge.append(coef_ridge[0][0])\n",
    "  cof_2_ridge.append(coef_ridge[1][0])\n",
    "\n",
    "  cof_1_lineal.append(coef_lineal[0][0])\n",
    "  cof_2_lineal.append(coef_lineal[1][0])\n",
    "\n",
    "\n",
    "\n",
    "print(coef_lineal)\n",
    "\n",
    "plt.figure(1)\n",
    "plt.xscale('log')\n",
    "plt.plot(L,cof_1_ridge,'r-')\n",
    "#plt.plot(L,cof_1_lineal,'r.')\n",
    "plt.xlabel('λ')\n",
    "plt.ylabel('Parametro 1 del modelo')\n",
    "plt.title('Variacion de los paramentros respecto a λ')\n",
    "plt.grid(True)\n",
    "\n",
    "plt.figure(2)\n",
    "plt.xscale('log')\n",
    "plt.plot(L,cof_2_ridge,'b-')\n",
    "#plt.plot(L,cof_2_lineal,'b.')\n",
    "plt.xlabel('λ')\n",
    "plt.ylabel('Parametros 2 del modelo')\n",
    "plt.title('Variacion de los paramentros respecto a λ')\n",
    "plt.grid(True)\n",
    "plt.show()"
   ]
  },
  {
   "cell_type": "markdown",
   "metadata": {
    "colab_type": "text",
    "id": "Fw1Z0CrVWlG6"
   },
   "source": [
    "#### 4.2.0.1 sklearn "
   ]
  },
  {
   "cell_type": "code",
   "execution_count": 5,
   "metadata": {
    "colab": {
     "base_uri": "https://localhost:8080/",
     "height": 581
    },
    "colab_type": "code",
    "executionInfo": {
     "elapsed": 1043,
     "status": "ok",
     "timestamp": 1586296158989,
     "user": {
      "displayName": "edwin mendoza",
      "photoUrl": "https://lh3.googleusercontent.com/a-/AOh14GgYiuSYYdnLb0yvl2k2Dj4GsIz-Vrc1g-3kM66h=s64",
      "userId": "06661154623699995725"
     },
     "user_tz": 300
    },
    "id": "X_1AioRiEo2H",
    "outputId": "aa010cfe-d2e3-442d-90f5-c395130c92db"
   },
   "outputs": [
    {
     "data": {
      "image/png": "[encoded data removed]",
      "text/plain": [
       "<Figure size 432x288 with 1 Axes>"
      ]
     },
     "metadata": {
      "needs_background": "light"
     },
     "output_type": "display_data"
    },
    {
     "data": {
      "image/png": "[encoded data removed]",
      "text/plain": [
       "<Figure size 432x288 with 1 Axes>"
      ]
     },
     "metadata": {
      "needs_background": "light"
     },
     "output_type": "display_data"
    }
   ],
   "source": [
    "# \n",
    "import matplotlib.pyplot as plt\n",
    "from numpy.linalg import inv\n",
    "from numpy import dot, transpose\n",
    "from sklearn import linear_model\n",
    "\n",
    "\n",
    "X = [[6, 2], [8, 1], [10, 0], [14, 2], [18, 0]]\n",
    "y = [[7], [9], [13], [17.5], [18]]\n",
    "\n",
    "#X_test = [[8, 2], [9, 0], [11, 2], [16, 2], [12, 0]]\n",
    "#y_test = [[11], [8.5], [15], [18], [11]]\n",
    "\n",
    "#Calculo de los parametros para distintos landas\n",
    "#L=np.linspace(0.001,10,20)\n",
    "n_alphas = 200\n",
    "L = np.logspace(-10, 3, n_alphas)\n",
    "\n",
    "cof_1=[]\n",
    "cof_2=[]\n",
    "for i in L:\n",
    "    ridge = linear_model.Ridge(alpha=i, fit_intercept=False)\n",
    "    ridge.fit(X, y)\n",
    "    cof_1.append(ridge.coef_[0][0])\n",
    "    cof_2.append(ridge.coef_[0][1])\n",
    "\n",
    "plt.figure(1)\n",
    "plt.xscale('log')\n",
    "plt.plot(L,cof_1,'r-')\n",
    "plt.xlabel('λ')\n",
    "plt.ylabel('Parametros del modelo')\n",
    "plt.title('Variacion de los paramentros respecto a λ')\n",
    "plt.grid(True)\n",
    "\n",
    "plt.figure(2)\n",
    "plt.xscale('log')\n",
    "plt.plot(L,cof_2,'b-')\n",
    "plt.xlabel('λ')\n",
    "plt.ylabel('Parametros del modelo')\n",
    "plt.title('Variacion de los paramentros respecto a λ')\n",
    "plt.grid(True)\n",
    "plt.show()"
   ]
  },
  {
   "cell_type": "markdown",
   "metadata": {
    "colab_type": "text",
    "id": "WRAQ2ZHkMgXe"
   },
   "source": [
    "### 4.2.1 Regresión Lasso"
   ]
  },
  {
   "cell_type": "markdown",
   "metadata": {
    "colab_type": "text",
    "id": "6bYl_KlbNIik"
   },
   "source": [
    "LASSO (Least Absolute Shrinkage and Selection Operator) es una técnica de regresión lineal regularizada que aplica una penalización, como Ridge, con una diferencia en la penalización (norma 𝐿1 en lugar de 𝐿2 ) que implica consecuencias importantes. LASSO resuelve el problema de mínimos cuadrados con restricción sobre la norma 𝐿1 del vector de coeficientes:\n",
    "la funcion de coste es :\n",
    "\n",
    "\\begin{equation}\n",
    "RSS_{LASSO}={\\sum_{i=1}^m}(y_i-(a+b_1x_1+b_2x_2+...+b_nx_n))^2 + λ{\\sum_{i=1}^n|b_j|} \n",
    "\\end{equation}\n",
    "\n",
    "Donde la solucion :\n",
    "\n",
    "\\begin{equation}\n",
    "B^{Lasso}(λ)=X^TY-\\frac{λ}{2}Sign(B)\n",
    "\\end{equation}\n",
    "\\begin{equation}\n",
    "B^{Lasso}_j=X^TY+\\frac{λ}{2} , (X^TY)_j<-\\frac{λ}{2}\n",
    "\\end{equation}\n",
    "\\begin{equation}\n",
    "B^{Lasso}_j=X^TY-\\frac{λ}{2} , (X^TY)_j>\\frac{λ}{2}\n",
    "\\end{equation}\n",
    "\\begin{equation}\n",
    "B^{Lasso}_j=0 , -\\frac{λ}{2}<(X^TY)_j<\\frac{λ}{2}\n",
    "\\end{equation}\n",
    "\\begin{equation}\n",
    "\\end{equation}\n",
    "\\begin{equation}\n",
    "X=\n",
    "\\begin{bmatrix}\n",
    "x_{11}& x_{21} & ... &x_{n1}\\\\\n",
    "x_{12}& x_{22} & ... &x_{n2}\\\\\n",
    " . & . & ... & .\\\\\n",
    " . & . & ... & .\\\\\n",
    " . & . & ... & .\\\\\n",
    "x_{1m}& x_{2m} & ... &x_{nm}\n",
    "\\end{bmatrix}\n",
    "\\end{equation}\n",
    "\n",
    "\\begin{equation}\n",
    "Y=\n",
    "\\begin{bmatrix}\n",
    "y_{1}\\\\\n",
    "y_{2}\\\\\n",
    " .\\\\\n",
    " .\\\\\n",
    " .\\\\\n",
    "y_{m}\n",
    "\\end{bmatrix}\n",
    "; B^{Ridge}=\n",
    "\\begin{bmatrix}\n",
    "b_{1}\\\\\n",
    "b_{2}\\\\\n",
    " .\\\\\n",
    " .\\\\\n",
    " .\\\\\n",
    "b_{m}\n",
    "\\end{bmatrix}\n",
    "\\end{equation}"
   ]
  },
  {
   "cell_type": "code",
   "execution_count": 4,
   "metadata": {
    "colab": {
     "base_uri": "https://localhost:8080/",
     "height": 581
    },
    "colab_type": "code",
    "executionInfo": {
     "elapsed": 1240,
     "status": "ok",
     "timestamp": 1586296318443,
     "user": {
      "displayName": "edwin mendoza",
      "photoUrl": "https://lh3.googleusercontent.com/a-/AOh14GgYiuSYYdnLb0yvl2k2Dj4GsIz-Vrc1g-3kM66h=s64",
      "userId": "06661154623699995725"
     },
     "user_tz": 300
    },
    "id": "-r9EGMC2Msw9",
    "outputId": "65a9b158-aa99-4976-eaf6-3aadb93e652e"
   },
   "outputs": [
    {
     "data": {
      "image/png": "[encoded data removed]",
      "text/plain": [
       "<Figure size 432x288 with 1 Axes>"
      ]
     },
     "metadata": {
      "needs_background": "light"
     },
     "output_type": "display_data"
    },
    {
     "data": {
      "image/png": "[encoded data removed]",
      "text/plain": [
       "<Figure size 432x288 with 1 Axes>"
      ]
     },
     "metadata": {
      "needs_background": "light"
     },
     "output_type": "display_data"
    }
   ],
   "source": [
    "# sklearn\n",
    "import matplotlib.pyplot as plt\n",
    "from numpy.linalg import inv\n",
    "from numpy import dot, transpose\n",
    "from sklearn import linear_model\n",
    "\n",
    "X = [[6, 2], [8, 1], [10, 0], [14, 2], [18, 0]]\n",
    "y = [[7], [9], [13], [17.5], [18]]\n",
    "\n",
    "#X_test = [[8, 2], [9, 0], [11, 2], [16, 2], [12, 0]]\n",
    "#y_test = [[11], [8.5], [15], [18], [11]]\n",
    "\n",
    "#Calculo de los parametros para distintos landas\n",
    "#L=np.linspace(0.001,10,20)\n",
    "n_alphas = 200\n",
    "L = np.logspace(-10, 3, n_alphas)\n",
    "\n",
    "cof_1=[]\n",
    "cof_2=[]\n",
    "for i in L:\n",
    "    Lasso = linear_model.Lasso(alpha=i, fit_intercept=False)\n",
    "    Lasso.fit(X, y)\n",
    "    cof_1.append(Lasso.coef_[0])\n",
    "    cof_2.append(Lasso.coef_[1])\n",
    "\n",
    "plt.figure(1)\n",
    "plt.xscale('log')\n",
    "plt.plot(L,cof_1,'r-')\n",
    "plt.xlabel('λ')\n",
    "plt.ylabel('Parametros del modelo')\n",
    "plt.title('Variacion de los paramentros respecto a λ')\n",
    "plt.grid(True)\n",
    "\n",
    "plt.figure(2)\n",
    "plt.xscale('log')\n",
    "plt.plot(L,cof_2,'b-')\n",
    "plt.xlabel('λ')\n",
    "plt.ylabel('Parametros del modelo')\n",
    "plt.title('Variacion de los paramentros respecto a λ')\n",
    "plt.grid(True)\n",
    "plt.show()"
   ]
  },
  {
   "cell_type": "markdown",
   "metadata": {
    "colab_type": "text",
    "id": "NxubLHV6kGAh"
   },
   "source": [
    "### 4.2.1 Regresión Elastic Net"
   ]
  },
  {
   "cell_type": "markdown",
   "metadata": {
    "colab_type": "text",
    "id": "kb7dEQVbkHuo"
   },
   "source": [
    "La regresion Elastic Net es una combinacion de de Rigde y Lasso , la funcion de coste seria de la siguiente forma:\n",
    "\n",
    "\n",
    "\\begin{equation}\n",
    "RSS_{ElasticNet}={\\sum_{i=1}^m}(y_i-(a+b_1x_1+b_2x_2+...+b_nx_n))^2 + λ_1{\\sum_{i=1}^n|b_j|} +λ_2{\\sum_{i=1}^n|b_j|^2}\n",
    "\\end{equation}\n",
    "\n",
    "Esta se puede transformar en :\n",
    "\\begin{equation}\n",
    "RSS_{ElasticNet}={\\sum_{i=1}^m}(y_i-(a+b_1x_1+b_2x_2+...+b_nx_n))^2 + α{\\sum_{i=1}^n|b_j|} +(1-α){\\sum_{i=1}^n|b_j|^2}\n",
    "\\end{equation}\n"
   ]
  },
  {
   "cell_type": "code",
   "execution_count": 3,
   "metadata": {
    "colab": {
     "base_uri": "https://localhost:8080/",
     "height": 581
    },
    "colab_type": "code",
    "executionInfo": {
     "elapsed": 1903,
     "status": "ok",
     "timestamp": 1586296707836,
     "user": {
      "displayName": "edwin mendoza",
      "photoUrl": "https://lh3.googleusercontent.com/a-/AOh14GgYiuSYYdnLb0yvl2k2Dj4GsIz-Vrc1g-3kM66h=s64",
      "userId": "06661154623699995725"
     },
     "user_tz": 300
    },
    "id": "L7clAKKidxXa",
    "outputId": "33db2290-999d-410b-d4f5-f3fe68897a93"
   },
   "outputs": [
    {
     "data": {
      "image/png": "[encoded data removed]",
      "text/plain": [
       "<Figure size 432x288 with 1 Axes>"
      ]
     },
     "metadata": {
      "needs_background": "light"
     },
     "output_type": "display_data"
    },
    {
     "data": {
      "image/png": "[encoded data removed]",
      "text/plain": [
       "<Figure size 432x288 with 1 Axes>"
      ]
     },
     "metadata": {
      "needs_background": "light"
     },
     "output_type": "display_data"
    }
   ],
   "source": [
    "# sklearn\n",
    "import matplotlib.pyplot as plt\n",
    "from numpy.linalg import inv\n",
    "from numpy import dot, transpose\n",
    "from sklearn import linear_model\n",
    "\n",
    "\n",
    "X = [[6, 2], [8, 1], [10, 0], [14, 2], [18, 0]]\n",
    "y = [[7], [9], [13], [17.5], [18]]\n",
    "\n",
    "#X_test = [[8, 2], [9, 0], [11, 2], [16, 2], [12, 0]]\n",
    "#y_test = [[11], [8.5], [15], [18], [11]]\n",
    "\n",
    "#Calculo de los parametros para distintos landas\n",
    "#L=np.linspace(0.001,10,20)\n",
    "n_alphas = 200\n",
    "L = np.logspace(-10, 3, n_alphas)\n",
    "\n",
    "cof_1=[]\n",
    "cof_2=[]\n",
    "for i in L:\n",
    "    Lasso = linear_model.ElasticNet(alpha=i, fit_intercept=False)\n",
    "    Lasso.fit(X, y)\n",
    "    cof_1.append(Lasso.coef_[0])\n",
    "    cof_2.append(Lasso.coef_[1])\n",
    "\n",
    "\n",
    "\n",
    "plt.figure(1)\n",
    "plt.xscale('log')\n",
    "plt.plot(L,cof_1,'r-')\n",
    "plt.xlabel('λ')\n",
    "plt.ylabel('Parametros del modelo')\n",
    "plt.title('Variacion de los paramentros respecto a λ')\n",
    "plt.grid(True)\n",
    "\n",
    "plt.figure(2)\n",
    "plt.xscale('log')\n",
    "plt.plot(L,cof_2,'b-')\n",
    "plt.xlabel('λ')\n",
    "plt.ylabel('Parametros del modelo')\n",
    "plt.title('Variacion de los paramentros respecto a λ')\n",
    "plt.grid(True)\n",
    "plt.show()"
   ]
  },
  {
   "cell_type": "markdown",
   "metadata": {
    "colab_type": "text",
    "id": "QvVmodEaqG-L"
   },
   "source": [
    "## 4.3 Comparacion "
   ]
  },
  {
   "cell_type": "markdown",
   "metadata": {
    "colab_type": "text",
    "id": "xj8O8-AzhB05"
   },
   "source": [
    "### 4.3.0 Ejemplo 1 ( 10 min - 2 pts )"
   ]
  },
  {
   "cell_type": "markdown",
   "metadata": {
    "colab_type": "text",
    "id": "ZzrFE9STeqFe"
   },
   "source": [
    "Usando los datos anteriores , implemtar un programa que :\n",
    "* Grafique $R^2$ vs $λ$\n",
    "* $λ$ debe variar [$10^{-4} ,10^{-2}$ ]\n",
    "* Se usaran todas regularizaciones vistas anteriormente\n",
    "\n",
    "Pd. Todas las graficas deben mostrarce en una sola figura\n"
   ]
  },
  {
   "cell_type": "markdown",
   "metadata": {
    "colab_type": "text",
    "id": "uuXaAWtDlBcp"
   },
   "source": [
    "### 4.3.1 Ejemplo 1 ( Solucion )"
   ]
  },
  {
   "cell_type": "code",
   "execution_count": 2,
   "metadata": {
    "colab": {
     "base_uri": "https://localhost:8080/",
     "height": 298
    },
    "colab_type": "code",
    "executionInfo": {
     "elapsed": 2324,
     "status": "ok",
     "timestamp": 1586142769261,
     "user": {
      "displayName": "edwin mendoza",
      "photoUrl": "https://lh3.googleusercontent.com/a-/AOh14GgYiuSYYdnLb0yvl2k2Dj4GsIz-Vrc1g-3kM66h=s64",
      "userId": "06661154623699995725"
     },
     "user_tz": 300
    },
    "id": "pJOtpgNnaGe4",
    "outputId": "01f2a6e6-a438-4e9a-ca74-8caa69d861dd"
   },
   "outputs": [
    {
     "data": {
      "image/png": "[encoded data removed]",
      "text/plain": [
       "<Figure size 432x288 with 1 Axes>"
      ]
     },
     "metadata": {
      "needs_background": "light"
     },
     "output_type": "display_data"
    }
   ],
   "source": [
    "# sklearn\n",
    "import matplotlib.pyplot as plt\n",
    "from numpy.linalg import inv\n",
    "from numpy import dot, transpose\n",
    "from sklearn import linear_model\n",
    "\n",
    "X_train = [[6, 2], [8, 1], [10, 0], [14, 2], [18, 0]]\n",
    "y_train = [[7], [9], [13], [17.5], [18]]\n",
    "\n",
    "X_test = [[8, 2], [9, 0], [11, 2], [16, 2], [12, 0]]\n",
    "y_test = [[11], [8.5], [15], [18], [11]]\n",
    "\n",
    "#Calculo de los parametros para distintos landas\n",
    "n_alphas = 40\n",
    "#L=np.linspace(0.00001,0.01,n_alphas)\n",
    "L = np.logspace(-4, -2, n_alphas)\n",
    "\n",
    "R_2_Elastic=[]\n",
    "R_2_Lasso=[]\n",
    "R_2_ridge=[]\n",
    "\n",
    "for i in L:\n",
    "    Elastic = linear_model.ElasticNet(alpha=i, fit_intercept=False)\n",
    "    Elastic.fit(X_train, y_train)\n",
    "    R_2_Elastic.append( Elastic.score(X_test, y_test) )\n",
    "\n",
    "    Lasso = linear_model.Lasso(alpha=i, fit_intercept=False)\n",
    "    Lasso.fit(X_train, y_train)\n",
    "    R_2_Lasso.append( Lasso.score(X_test, y_test) )\n",
    "\n",
    "    ridge = linear_model.Ridge(alpha=i, fit_intercept=False)\n",
    "    ridge.fit(X_train, y_train)\n",
    "    R_2_ridge.append( ridge.score(X_test, y_test) )\n",
    "\n",
    "\n",
    "plt.figure(1)\n",
    "plt.xscale('log')\n",
    "plt.plot(L,R_2_Elastic,'r.')\n",
    "plt.plot(L,R_2_Lasso,'b.')\n",
    "plt.plot(L,R_2_ridge,'g.')\n",
    "plt.xlabel('λ')\n",
    "plt.ylabel('R_2 del modelo')\n",
    "plt.title('Variacion del R_2 respecto a λ')\n",
    "plt.grid(True)\n",
    "plt.show()"
   ]
  },
  {
   "cell_type": "markdown",
   "metadata": {
    "colab_type": "text",
    "id": "tkPxgYehs1G6"
   },
   "source": [
    "### 4.3.2 Ejemplo 2 ( 10 min - 2 pts )"
   ]
  },
  {
   "cell_type": "markdown",
   "metadata": {
    "colab_type": "text",
    "id": "DVgYwqOTtKNT"
   },
   "source": [
    "Dada la siguiente dataset ,generar la siguiente grafica:\n",
    "* Grafique $R^2$ vs $λ$\n",
    "* $λ$ debe variar [$10^{-3} ,10^{-1.3}$ ]\n",
    "* Se usaran todas regularizaciones vistas anteriormente\n",
    "\n",
    "Pd. Todas las graficas deben mostrarce en una sola figura"
   ]
  },
  {
   "cell_type": "code",
   "execution_count": 1,
   "metadata": {
    "colab": {
     "base_uri": "https://localhost:8080/",
     "height": 311
    },
    "colab_type": "code",
    "executionInfo": {
     "elapsed": 565,
     "status": "ok",
     "timestamp": 1586299920242,
     "user": {
      "displayName": "edwin mendoza",
      "photoUrl": "https://lh3.googleusercontent.com/a-/AOh14GgYiuSYYdnLb0yvl2k2Dj4GsIz-Vrc1g-3kM66h=s64",
      "userId": "06661154623699995725"
     },
     "user_tz": 300
    },
    "id": "R91E-fnRu3Ei",
    "outputId": "f5438df3-00f7-4514-cebe-e64b6b52d9d1"
   },
   "outputs": [
    {
     "data": {
      "image/png": "[encoded data removed]",
      "text/plain": [
       "<Figure size 432x288 with 1 Axes>"
      ]
     },
     "metadata": {
      "needs_background": "light"
     },
     "output_type": "display_data"
    }
   ],
   "source": [
    "import numpy as np\n",
    "import matplotlib.pyplot as plt\n",
    "from random import randint, uniform,random\n",
    "from sklearn import linear_model\n",
    "\n",
    "np.random.seed(100)\n",
    "\n",
    "# Creación de data de entrenamiento\n",
    "n_datos=100\n",
    "X_train = np.linspace(0, 2, n_datos)\n",
    "y_train = 3 +5 * X_train + np.random.randn(1,n_datos)[0] * 0.1\n",
    "\n",
    "n_datos=20\n",
    "X_test = np.linspace(0, 2, n_datos)\n",
    "y_test = 3 +5 * X_test + np.random.randn(1,n_datos)[0] * 0.1\n",
    "\n",
    "plt.title('Datos random con comportamiento Y=2X+3')\n",
    "plt.xlabel('X train')\n",
    "plt.ylabel('Y train')\n",
    "plt.plot(X_train,y_train,'b.')\n",
    "plt.show()"
   ]
  },
  {
   "cell_type": "markdown",
   "metadata": {
    "colab_type": "text",
    "id": "N92-UElflW1f"
   },
   "source": [
    "### 4.3.3 Ejemplo 2 ( Solucion )"
   ]
  },
  {
   "cell_type": "code",
   "execution_count": 26,
   "metadata": {
    "colab": {
     "base_uri": "https://localhost:8080/",
     "height": 593
    },
    "colab_type": "code",
    "executionInfo": {
     "elapsed": 964,
     "status": "ok",
     "timestamp": 1586299770372,
     "user": {
      "displayName": "edwin mendoza",
      "photoUrl": "https://lh3.googleusercontent.com/a-/AOh14GgYiuSYYdnLb0yvl2k2Dj4GsIz-Vrc1g-3kM66h=s64",
      "userId": "06661154623699995725"
     },
     "user_tz": 300
    },
    "id": "fvwU3ojLTKHJ",
    "outputId": "91fbb925-b17e-4b51-898d-09ef71e5ea89"
   },
   "outputs": [
    {
     "name": "stdout",
     "output_type": "stream",
     "text": [
      "El R_2 maximo es: 0.7587359717475349\n"
     ]
    },
    {
     "data": {
      "image/png": "[encoded data removed]",
      "text/plain": [
       "<Figure size 432x288 with 1 Axes>"
      ]
     },
     "metadata": {
      "tags": []
     },
     "output_type": "display_data"
    },
    {
     "data": {
      "image/png": "[encoded data removed]",
      "text/plain": [
       "<Figure size 432x288 with 1 Axes>"
      ]
     },
     "metadata": {
      "tags": []
     },
     "output_type": "display_data"
    }
   ],
   "source": [
    "import numpy as np\n",
    "import matplotlib.pyplot as plt\n",
    "from random import randint, uniform,random\n",
    "from sklearn import linear_model\n",
    "\n",
    "np.random.seed(100)\n",
    "\n",
    "# Creación de data de entrenamiento\n",
    "n_datos=100\n",
    "X_train = np.linspace(0, 2, n_datos)\n",
    "y_train = 3 +5 * X_train + np.random.randn(1,n_datos)[0] * 0.1\n",
    "\n",
    "n_datos=20\n",
    "X_test = np.linspace(0, 2, n_datos)\n",
    "y_test = 3 +5 * X_test + np.random.randn(1,n_datos)[0] * 0.1\n",
    "\n",
    "\n",
    "X_train_re=X_train.reshape((len(X_train),1))\n",
    "y_train_re=y_train.reshape((len(y_train),1))\n",
    "\n",
    "X_test_re=X_test.reshape((len(X_test),1))\n",
    "y_test_re=y_test.reshape((len(y_test),1))\n",
    "\n",
    "\n",
    "plt.figure(1)\n",
    "plt.title('Datos random con comportamiento Y=2X+3')\n",
    "plt.xlabel('X train')\n",
    "plt.ylabel('Y train')\n",
    "plt.plot(X_train,y_train,'b.')\n",
    "\n",
    "\n",
    "n_alphas = 20\n",
    "L = np.logspace(-3, -1.3, n_alphas)\n",
    "\n",
    "R_2_Elastic=[]\n",
    "R_2_Lasso=[]\n",
    "R_2_ridge=[]\n",
    "for i in L:\n",
    "    Elastic = linear_model.ElasticNet(alpha=i, fit_intercept=False)\n",
    "    Elastic.fit(X_train_re, y_train_re)\n",
    "    R_2_Elastic.append( Elastic.score(X_test_re, y_test_re) )\n",
    "\n",
    "    Lasso = linear_model.Lasso(alpha=i, fit_intercept=False)\n",
    "    Lasso.fit(X_train_re, y_train_re)\n",
    "    R_2_Lasso.append( Lasso.score(X_test_re, y_test_re) )\n",
    "\n",
    "    ridge = linear_model.Ridge(alpha=i, fit_intercept=False)\n",
    "    ridge.fit(X_train_re, y_train_re)\n",
    "    R_2_ridge.append( ridge.score(X_test_re, y_test_re) )\n",
    "\n",
    "\n",
    "\n",
    "\n",
    "maximos=[max(R_2_Elastic) , max(R_2_Lasso) , max(R_2_ridge)]\n",
    "\n",
    "print('El R_2 maximo es: '+str(max(maximos)))\n",
    "plt.figure(2)\n",
    "plt.xscale('log')\n",
    "plt.plot(L,R_2_Elastic,'r*')\n",
    "plt.plot(L,R_2_Lasso,'b+')\n",
    "plt.plot(L,R_2_ridge,'g.')\n",
    "plt.xlabel('λ')\n",
    "plt.ylabel('R_2')\n",
    "plt.title('Variacion de los paramentros respecto a λ')\n",
    "plt.grid(True)\n",
    "\n"
   ]
  },
  {
   "cell_type": "markdown",
   "metadata": {
    "colab_type": "text",
    "id": "VxI79b-jxICU"
   },
   "source": [
    "## 4.4 Tarea 3.1"
   ]
  },
  {
   "cell_type": "markdown",
   "metadata": {
    "colab_type": "text",
    "id": "dVZdAznNxLSa"
   },
   "source": [
    "Implementar dataset con las siguientes caracteristicas:\n",
    "\n",
    "* Variables explicativas ( $x1$ )\n",
    "* Varaible resultado ( $y1$ ) , comportamiento de polinomio de grado 3\n",
    "* Se deben añadir ruido al data set.\n",
    "\n",
    "Se debera implementar un modelo con la siguientes caracteristicas:\n",
    "\n",
    "* Modelo polinomial simple de grado 3.\n",
    "* El modelo debe tener una regularizacion Ridge.\n",
    "* Elegir el parametro de penalizacion con un valor arbitario.\n",
    "* El metodo de optimizacion debe ser el descenso de gradiente.\n",
    "\n",
    "\n",
    "\n",
    "\n"
   ]
  },
  {
   "cell_type": "code",
   "execution_count": null,
   "metadata": {},
   "outputs": [],
   "source": []
  }
 ],
 "metadata": {
  "colab": {
   "authorship_tag": "ABX9TyPTY7TQFbIO239KTXaevtJ7",
   "collapsed_sections": [
    "dJdoyApn63V_",
    "miuzw_VhViLP",
    "D-z0l4V-wRPn",
    "uOmlVQ8XHyI4",
    "3bpjAv2eYyhB",
    "Fw1Z0CrVWlG6",
    "WRAQ2ZHkMgXe",
    "NxubLHV6kGAh",
    "QvVmodEaqG-L",
    "xj8O8-AzhB05",
    "uuXaAWtDlBcp",
    "tkPxgYehs1G6",
    "N92-UElflW1f"
   ],
   "name": "4.Regularización.ipynb",
   "provenance": []
  },
  "kernelspec": {
   "display_name": "Python 3",
   "language": "python",
   "name": "python3"
  },
  "language_info": {
   "codemirror_mode": {
    "name": "ipython",
    "version": 3
   },
   "file_extension": ".py",
   "mimetype": "text/x-python",
   "name": "python",
   "nbconvert_exporter": "python",
   "pygments_lexer": "ipython3",
   "version": "3.7.3"
  }
 },
 "nbformat": 4,
 "nbformat_minor": 4
}
