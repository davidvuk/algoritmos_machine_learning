{
 "cells": [
  {
   "cell_type": "markdown",
   "metadata": {
    "colab_type": "text",
    "id": "4Dfb9I_kWUbl"
   },
   "source": [
    "# 2.Regresion lineal multivariable"
   ]
  },
  {
   "cell_type": "markdown",
   "metadata": {
    "colab_type": "text",
    "id": "VT2lCSByWYZR"
   },
   "source": [
    "## 2.0 Introduccion"
   ]
  },
  {
   "cell_type": "markdown",
   "metadata": {
    "colab_type": "text",
    "id": "91CJX8bfWcMh"
   },
   "source": [
    "La regresion lineal multivariable modela la relacion entre una variable de respuesta ( $y$ ) y varias variable explicativas ( $x_1$,$x_2$,$x_3$,...,$x_n$**). El objetivo en los problemas de regresión es predecir el valor de una variable de respuesta ( $y$ ).\n",
    "\n",
    "El modelo de la regresion lineal multivariables es:\n",
    "\n",
    "\\begin{equation}\n",
    "y=a+b_1x_1+b_2x_2+...+b_nx_n\n",
    "\\end{equation}\n",
    "\n",
    "Este modelo lo podemos expresar de manera matricial:\n",
    "\n",
    "\n",
    "\\begin{equation}\n",
    "\\begin{bmatrix}\n",
    "y_1 \\\\\n",
    "y_2  \\\\\n",
    ".\\\\\n",
    ".\\\\\n",
    ". \\\\\n",
    "y_m\n",
    "\\end{bmatrix}\n",
    "=\n",
    "\\begin{bmatrix}\n",
    "a +{b_1}x_{11}+{b_2}x_{21}+...+{b_n}x_{n1}\\\\\n",
    "a +{b_1}x_{12}+{b_2}x_{22}+...+{b_n}x_{n2}\\\\\n",
    ".\\\\\n",
    ".\\\\\n",
    ".\\\\\n",
    "a +{b_1}x_{1m}+{b_2}x_{2m}+...+{b_n}x_{nm}\n",
    "\\end{bmatrix}\n",
    "=\n",
    "\\begin{bmatrix}\n",
    "1 &x_{11}& x_{21} & ... &x_{n1}\\\\\n",
    "1 &x_{12}& x_{22} & ... &x_{n2}\\\\\n",
    ". & . & . & ... & .\\\\\n",
    ". & . & . & ... & .\\\\\n",
    ". & . & . & ... & .\\\\\n",
    "1 &x_{1m}& x_{2m} & ... &x_{nm}\n",
    "\\end{bmatrix}\n",
    "X\n",
    "\\begin{bmatrix}\n",
    "a \\\\\n",
    "b_1 \\\\\n",
    "b_2 \\\\\n",
    ".\\\\\n",
    ".\\\\\n",
    ".\\\\\n",
    "b_n\n",
    "\\end{bmatrix}\n",
    "    .......(1)\n",
    "\\end{equation}\n",
    "\\begin{equation}\n",
    "Y=XB\n",
    "\\end{equation}\n",
    "\n",
    "Donde:\n",
    "\n",
    "$Y:$ Es la matriz con la data de entrenamiento de la variable respuesta es del orden $m$X$1$\n",
    "\n",
    "$X:$ Es la matriz que contine la data de entrenamiento de las variables de explicativas , tiene adicionalmente una columna de unos. Es del orden $m$X$(n+1)$\n",
    "\n",
    "$B:$ Es la matriz que contine los parametros de nuestro modelo , nosotros necesitaremos hallar esta, es del orden de $(n+1)$X$1$\n",
    "\n",
    "$x_{ij}:$ Es el valor j-enesimo de la data de entrenamiento de la i-enesima variable explicativa.\n",
    "\n",
    "$m:$ Es el numero de muestras de la data de entrenamiento.\n",
    "\n",
    "$n:$ Es el numero de variables explicativas.\n",
    "\n",
    "Para resolver esto tenemos veremos dos metodos de optimizacion :\n",
    "\n",
    "*   ***Optimizacion analitica ( Minimos cuadrados )***\n",
    "*   ***Optimizacion Machine learning ( Descenso de gradiente )***"
   ]
  },
  {
   "cell_type": "markdown",
   "metadata": {
    "colab_type": "text",
    "id": "FbO1Zc5tW-xS"
   },
   "source": [
    "## 2.1 Optimizacion analitica ( Minimos cuadrados )"
   ]
  },
  {
   "cell_type": "markdown",
   "metadata": {
    "colab_type": "text",
    "id": "iTMPWM1CXUxR"
   },
   "source": [
    "Como podemos notar la solucion de la expresion $(1)$ es :\n",
    "\n",
    "\n",
    "\\begin{equation}\n",
    "B=\n",
    "\\begin{bmatrix}\n",
    "a \\\\\n",
    "b_1\\\\\n",
    "b_2\\\\\n",
    ".\\\\\n",
    ".\\\\\n",
    ".\\\\\n",
    "b_n\n",
    "\\end{bmatrix}\n",
    "=(X^T X)^{-1}X^T Y .......(2)\n",
    "\\end{equation}"
   ]
  },
  {
   "cell_type": "markdown",
   "metadata": {
    "colab_type": "text",
    "id": "8YMSvsjOyYSJ"
   },
   "source": [
    "### 2.1.0 Ejemplo 1"
   ]
  },
  {
   "cell_type": "markdown",
   "metadata": {
    "colab_type": "text",
    "id": "8V-FfXAuuEPq"
   },
   "source": [
    "Anteriormente vimos la regresion lineal simple donde el precio solo dependia del diametro , sin embargo como sabemos hay mas factores que intervienen en el precio como por ejemplo la cantidad de ingredientes , el tipo de queso , la masa a usar entre otros.\n",
    "\n",
    "Para nuestro ejemplo consideraremos las variables explicativas de diametro y numero de ingredientes.\n",
    "\n",
    "Nuestra data de entrenamiento sera:\n",
    "\n",
    "i  | Diametro |Numero de ingredientes |Precio($)\n",
    "---|  ---     |         ---           |  ---\n",
    "1  | 6        |2                      |7\n",
    "2  | 8        |1                      |9\n",
    "3  | 10       |0                      |13\n",
    "4  | 14       |2                      |17.5\n",
    "5  | 18       |0                      |18\n",
    "\n",
    "La data de testeo o prueba sera:\n",
    "\n",
    "i  | Diametro |Numero de ingredientes |Precio($)\n",
    "---|  ---     |         ---           |  ---\n",
    "1  | 8        |2                      |11\n",
    "2  | 9        |0                      |8.5\n",
    "3  | 11       |2                      |15\n",
    "4  | 16       |2                      |18\n",
    "5  | 12       |0                      |11"
   ]
  },
  {
   "cell_type": "markdown",
   "metadata": {
    "colab_type": "text",
    "id": "cCGzZC4NuPSg"
   },
   "source": [
    "#### 2.1.0.1 Numpy ( 5 min - 1 pto )"
   ]
  },
  {
   "cell_type": "code",
   "execution_count": 1,
   "metadata": {
    "colab": {},
    "colab_type": "code",
    "id": "sh2YtJRzZcA5"
   },
   "outputs": [
    {
     "name": "stdout",
     "output_type": "stream",
     "text": [
      "[[1.1875    ]\n",
      " [1.01041667]\n",
      " [0.39583333]]\n"
     ]
    }
   ],
   "source": [
    "from numpy.linalg import inv\n",
    "from numpy import dot, transpose\n",
    "\n",
    "X = [[1, 6, 2], [1, 8, 1], [1, 10, 0], [1, 14, 2], [1, 18, 0]]\n",
    "y = [[7], [9], [13], [17.5], [18]]\n",
    "print (dot(inv(dot(transpose(X), X)), dot(transpose(X), y)))"
   ]
  },
  {
   "cell_type": "code",
   "execution_count": 2,
   "metadata": {
    "colab": {},
    "colab_type": "code",
    "id": "HC5GH0nZuyc4"
   },
   "outputs": [
    {
     "name": "stdout",
     "output_type": "stream",
     "text": [
      "[[1.96551724]\n",
      " [0.9762931 ]]\n"
     ]
    }
   ],
   "source": [
    "#Regresion lineal simple\n",
    "from numpy.linalg import inv\n",
    "from numpy import dot, transpose\n",
    "X = [[1,6], [1,8], [1,10], [1,14], [1,18]]\n",
    "y = [[7], [9], [13], [17.5], [18]]\n",
    "\n",
    "print (dot(inv(dot(transpose(X), X)), dot(transpose(X), y)))"
   ]
  },
  {
   "cell_type": "markdown",
   "metadata": {
    "colab_type": "text",
    "id": "hChAqD2VukHC"
   },
   "source": [
    "#### 2.1.0.1 Sklearn"
   ]
  },
  {
   "cell_type": "code",
   "execution_count": 3,
   "metadata": {
    "colab": {},
    "colab_type": "code",
    "id": "oJ5_ZeERuqwA"
   },
   "outputs": [
    {
     "name": "stdout",
     "output_type": "stream",
     "text": [
      "Coeficiente de la primera variable explicativa:  1.0104166666666667\n",
      "Coeficiente de la segunda variable explicativa:  0.39583333333333376\n",
      "coeficiente independiente:  1.1875\n",
      "Predicted: [10.0625], Target: [11]\n",
      "Predicted: [10.28125], Target: [8.5]\n",
      "Predicted: [13.09375], Target: [15]\n",
      "Predicted: [18.14583333], Target: [18]\n",
      "Predicted: [13.3125], Target: [11]\n",
      "R-squared: 0.77\n"
     ]
    }
   ],
   "source": [
    "from sklearn.linear_model import LinearRegression\n",
    "from sklearn.metrics import mean_squared_error, r2_score\n",
    "\n",
    "X_train = [[6, 2], [8, 1], [10, 0], [14, 2], [18, 0]]\n",
    "y_train = [[7], [9], [13], [17.5], [18]]\n",
    "model = LinearRegression()\n",
    "model.fit(X_train, y_train)\n",
    "\n",
    "print('Coeficiente de la primera variable explicativa: ', model.coef_[0][0])\n",
    "print('Coeficiente de la segunda variable explicativa: ', model.coef_[0][1])\n",
    "print('coeficiente independiente: ', model.intercept_[0])\n",
    "\n",
    "X_test = [[8, 2], [9, 0], [11, 2], [16, 2], [12, 0]]\n",
    "y_test = [[11], [8.5], [15], [18], [11]]\n",
    "\n",
    "predictions = model.predict(X_test)\n",
    "for i, prediction in enumerate(predictions):\n",
    "  print ('Predicted: %s, Target: %s' % (prediction, y_test[i]))\n",
    "print ('R-squared: %.2f' % model.score(X_test, y_test))"
   ]
  },
  {
   "cell_type": "markdown",
   "metadata": {
    "colab_type": "text",
    "id": "xozhEAAzyAvy"
   },
   "source": [
    "### 2.1.1 Ejemplo 2"
   ]
  },
  {
   "cell_type": "markdown",
   "metadata": {
    "colab_type": "text",
    "id": "ytupFxTYsGhg"
   },
   "source": [
    "\n",
    "#### 2.1.1.0 Numpy"
   ]
  },
  {
   "cell_type": "code",
   "execution_count": 4,
   "metadata": {
    "colab": {
     "base_uri": "https://localhost:8080/",
     "height": 68
    },
    "colab_type": "code",
    "executionInfo": {
     "elapsed": 1232,
     "status": "ok",
     "timestamp": 1586041477452,
     "user": {
      "displayName": "edwin mendoza",
      "photoUrl": "https://lh3.googleusercontent.com/a-/AOh14GgYiuSYYdnLb0yvl2k2Dj4GsIz-Vrc1g-3kM66h=s64",
      "userId": "06661154623699995725"
     },
     "user_tz": 300
    },
    "id": "zzRToVkz1PmS",
    "outputId": "c1e2cea3-7411-48e2-8030-6ec891141545"
   },
   "outputs": [
    {
     "name": "stdout",
     "output_type": "stream",
     "text": [
      "Coeficiente independiente: 3.0337437625697063\n",
      "Tangente_1: 1.590455606089563\n",
      "Tangente_2: 4.876812654927633\n"
     ]
    }
   ],
   "source": [
    "import numpy as np\n",
    "from sklearn.datasets import make_regression\n",
    "import matplotlib.pyplot as plt\n",
    "from random import randint, uniform,random\n",
    "from numpy.linalg import inv\n",
    "from numpy import dot, transpose\n",
    "\n",
    "# Creación de data de entrenamiento\n",
    "\n",
    "feature=2 \n",
    "n_datos=100\n",
    "\n",
    "X=[]\n",
    "y=[]\n",
    "X_1 = np.linspace(0, 2, n_datos) + np.random.randn(1,n_datos)[0] * 0.33\n",
    "X_2 = np.linspace(0, 2, n_datos) - np.random.randn(1,n_datos)[0] * 0.27\n",
    "y_1 = 3 +1.5 * X_1 +5 * X_2 +np.random.randn(1,n_datos)[0] * 0.33\n",
    "\n",
    "for i in np.arange(n_datos):\n",
    "  X.append( [1] + [X_1[i]] + [X_2[i]] )\n",
    "  y.append( [y_1[i]] ) \n",
    "\n",
    "\n",
    "# [[1 , 2 , 5] , [1,3,6] ,.....\n",
    "\n",
    "#Data de entrenamiento\n",
    "X_train=X[0:80]\n",
    "y_train=y[0:80]\n",
    "\n",
    "#Data de teste\n",
    "X_test=X[80:100]\n",
    "y_test=y[80:100]\n",
    "\n",
    "[[a],[b_1],[b_2]] = dot(inv(dot(transpose(X_train), X_train)), dot(transpose(X_train), y_train))\n",
    "\n",
    "print('Coeficiente independiente: '+str(a))\n",
    "print('Tangente_1: '+str(b_1) )\n",
    "print('Tangente_2: '+str(b_2) )\n"
   ]
  },
  {
   "cell_type": "markdown",
   "metadata": {
    "colab_type": "text",
    "id": "ollVCVois4Tw"
   },
   "source": [
    "#### 2.1.1.0 Sklearn"
   ]
  },
  {
   "cell_type": "code",
   "execution_count": 5,
   "metadata": {
    "colab": {
     "base_uri": "https://localhost:8080/",
     "height": 68
    },
    "colab_type": "code",
    "executionInfo": {
     "elapsed": 1338,
     "status": "ok",
     "timestamp": 1586042036316,
     "user": {
      "displayName": "edwin mendoza",
      "photoUrl": "https://lh3.googleusercontent.com/a-/AOh14GgYiuSYYdnLb0yvl2k2Dj4GsIz-Vrc1g-3kM66h=s64",
      "userId": "06661154623699995725"
     },
     "user_tz": 300
    },
    "id": "RNL3RW6InnXB",
    "outputId": "a4f161a1-5589-44e2-f5c5-3287699e5993"
   },
   "outputs": [
    {
     "name": "stdout",
     "output_type": "stream",
     "text": [
      "Coeficiente de la primera variable explicativa:  1.4845441511665065\n",
      "Coeficiente de la segunda variable explicativa:  5.07649105887534\n",
      "coeficiente independiente:  2.9456476585600777\n"
     ]
    }
   ],
   "source": [
    "import numpy as np\n",
    "from sklearn.datasets import make_regression\n",
    "import matplotlib.pyplot as plt\n",
    "from random import randint, uniform,random\n",
    "from numpy.linalg import inv\n",
    "from numpy import dot, transpose\n",
    "\n",
    "from sklearn.linear_model import LinearRegression\n",
    "from sklearn.metrics import mean_squared_error, r2_score\n",
    "\n",
    "n_datos=100\n",
    "\n",
    "X=[]\n",
    "y=[]\n",
    "X_1 = np.linspace(0, 2, n_datos) + np.random.randn(1,n_datos)[0] * 0.33\n",
    "X_2 = np.linspace(0, 2, n_datos) - np.random.randn(1,n_datos)[0] * 0.27\n",
    "y_1 = 3 +1.5 * X_1 +5 * X_2 +np.random.randn(1,n_datos)[0] * 0.33\n",
    "\n",
    "for i in np.arange(n_datos):\n",
    "  X.append( [X_1[i]] + [X_2[i]] )\n",
    "  y.append( [y_1[i]] ) \n",
    "\n",
    "\n",
    "\n",
    "#Data de entrenamiento\n",
    "X_train=X[0:80]\n",
    "y_train=y[0:80]\n",
    "\n",
    "#Data de teste\n",
    "X_test=X[80:100]\n",
    "y_test=y[80:100]\n",
    "\n",
    "model = LinearRegression()\n",
    "model.fit(X_train, y_train)\n",
    "\n",
    "print('Coeficiente de la primera variable explicativa: ', model.coef_[0][0])\n",
    "print('Coeficiente de la segunda variable explicativa: ', model.coef_[0][1])\n",
    "print('coeficiente independiente: ', model.intercept_[0])\n"
   ]
  },
  {
   "cell_type": "markdown",
   "metadata": {
    "colab_type": "text",
    "id": "by3QsHTd0RaX"
   },
   "source": [
    "## 2.2 Optimizacion Machine learning ( Gradiente descendente )"
   ]
  },
  {
   "cell_type": "code",
   "execution_count": 12,
   "metadata": {
    "colab": {},
    "colab_type": "code",
    "id": "2meELRms3zl5"
   },
   "outputs": [],
   "source": [
    "import numpy as np\n",
    "n_datos=100\n",
    "\n",
    "X_1 = np.linspace(0, 2, n_datos) + np.random.randn(1,n_datos)[0] * 0.33\n",
    "X_2 = np.linspace(0, 2, n_datos) - np.random.randn(1,n_datos)[0] * 0.27\n",
    "y = 3 +1.5 * X_1 +5 * X_2 +np.random.randn(1,n_datos)[0] * 0.6\n",
    "\n",
    "#Data de entrenamiento\n",
    "X_1_train=X_1[0:80]\n",
    "X_2_train=X_2[0:80]\n",
    "y_train=y[0:80]\n",
    "\n",
    "#Data de teste\n",
    "X_test_1=X_1[80:100]\n",
    "X_test_2=X_2[80:100]\n",
    "y_test=y[80:100]\n"
   ]
  },
  {
   "cell_type": "code",
   "execution_count": 13,
   "metadata": {
    "colab": {
     "base_uri": "https://localhost:8080/",
     "height": 85
    },
    "colab_type": "code",
    "executionInfo": {
     "elapsed": 1908,
     "status": "ok",
     "timestamp": 1586042181937,
     "user": {
      "displayName": "edwin mendoza",
      "photoUrl": "https://lh3.googleusercontent.com/a-/AOh14GgYiuSYYdnLb0yvl2k2Dj4GsIz-Vrc1g-3kM66h=s64",
      "userId": "06661154623699995725"
     },
     "user_tz": 300
    },
    "id": "NJMyMDda2Z6O",
    "outputId": "95d55381-9ac7-4b27-d540-97eefa825260"
   },
   "outputs": [
    {
     "name": "stdout",
     "output_type": "stream",
     "text": [
      "Resultados en 795 pasos\n",
      "Tangente 1 : 1.5259320675435384\n",
      "Tangente 2 : 5.006362667254616\n",
      "Coeficiente independiente: 3.0451613632457364\n"
     ]
    }
   ],
   "source": [
    "#Optimizacion por Gradiente Descendente\n",
    "\n",
    "# Definición de los ajustes y parámetros iniciales\n",
    "num_steps = 100000\n",
    "learningRate = 0.1\n",
    "criteria = 1e-8\n",
    "a = 1\n",
    "b_1 = 1\n",
    "b_2 = 1\n",
    "# Proceso iterativo\n",
    "for step in range(0, num_steps):\n",
    "    a_gradient = 0\n",
    "    b_1_gradient = 0\n",
    "    b_2_gradient = 0\n",
    "    N = float(len(X_train))\n",
    "    for i in range(0, len(X_train)):\n",
    "        a_gradient -= (2/N) * (y_train[i] - (a + b_1 * X_1_train[i]+b_2 * X_2_train[i]))\n",
    "        b_1_gradient -= (2/N) * (y_train[i] - (a + b_1 * X_1_train[i]+b_2 * X_2_train[i])) * X_1_train[i]\n",
    "        b_2_gradient -= (2/N) * (y_train[i] - (a + b_1 * X_1_train[i]+b_2 * X_2_train[i])) * X_2_train[i]\n",
    "\n",
    "\n",
    "    a = a - (learningRate * a_gradient)\n",
    "    b_1 = b_1 - (learningRate * b_1_gradient)\n",
    "    b_2 = b_2 - (learningRate * b_2_gradient)\n",
    "    if max(abs(learningRate * a_gradient), abs(learningRate * b_1_gradient) , abs(learningRate * b_2_gradient) ) < criteria:\n",
    "        break\n",
    "    \n",
    "# Resultados\n",
    "print('Resultados en '+str(step)+ ' pasos')\n",
    "print('Tangente 1 :',b_1)\n",
    "print('Tangente 2 :',b_2)\n",
    "print('Coeficiente independiente:',a)\n"
   ]
  },
  {
   "cell_type": "markdown",
   "metadata": {
    "colab_type": "text",
    "id": "RrFN6nAcvMpR"
   },
   "source": [
    "## 2.3 Metricas de evaluacion del modelo"
   ]
  },
  {
   "cell_type": "markdown",
   "metadata": {
    "colab_type": "text",
    "id": "_dZfbfRPvdhJ"
   },
   "source": [
    "Al diferencia que el modelo de regresion lineal simple que usa el  $R^2$ ( ***R-Squared*** )para medir la habilidad de predecir del modelo , la regresion lineal multivarible usara una pequeña variacion de esta , llamada $R^2_a$ ( ***Adjusted R-Squared*** ).\n",
    "\n",
    "$R^2$ para multiples variables:\n",
    "\\begin{equation}\n",
    "SS_{res}={\\sum_{i=1}^n}(y_i-f(x_{1i},x_{2i},...,x_{1m}))^2\n",
    "\\end{equation}\n",
    "\\begin{equation}\n",
    "SS_{tot}={\\sum_{i=1}^n}(y_i-prom(y)))^2\n",
    "\\end{equation}\n",
    "\\begin{equation}\n",
    "R^2=1-\\frac{SS_{res}}{SS_{tot}}\n",
    "\\end{equation}\n",
    "Ahora , $R^2_a$:\n",
    "\n",
    "\\begin{equation}\n",
    "R^2_a=1-(\\frac{n-1}{n-k-1})(1-R^2)\n",
    "\\end{equation}\n",
    "\n",
    "Donde:\n",
    "\n",
    "n: Numero de observaciones de la muestra\n",
    "\n",
    "k: Numero de variables independientes"
   ]
  },
  {
   "cell_type": "markdown",
   "metadata": {
    "colab_type": "text",
    "id": "HcmytYj59YYZ"
   },
   "source": [
    "### 2.3.0 Implementacion de $R_a^2$ ( 5 min - 1 pts )"
   ]
  },
  {
   "cell_type": "markdown",
   "metadata": {
    "colab_type": "text",
    "id": "emuGwMYj9ez-"
   },
   "source": [
    "Elegir algúno de los ejemplos anteriores para encontrar el $R_a^2$. "
   ]
  },
  {
   "cell_type": "markdown",
   "metadata": {
    "colab_type": "text",
    "id": "-ospQVJpCiYp"
   },
   "source": [
    "### 2.3.1 Implementacion de $R_a^2$ ( Solucion )"
   ]
  },
  {
   "cell_type": "code",
   "execution_count": 8,
   "metadata": {
    "colab": {},
    "colab_type": "code",
    "id": "kyF4LdVOvQF_"
   },
   "outputs": [],
   "source": [
    "import numpy as np\n",
    "n_datos=100\n",
    "\n",
    "X_1 = np.linspace(0, 2, n_datos) + np.random.randn(1,n_datos)[0] * 0.33\n",
    "X_2 = np.linspace(0, 2, n_datos) - np.random.randn(1,n_datos)[0] * 0.27\n",
    "y = 3 +1.5 * X_1 +5 * X_2 +np.random.randn(1,n_datos)[0] * 0.6\n",
    "\n",
    "#Data de entrenamiento\n",
    "X_1_train=X_1[0:80]\n",
    "X_2_train=X_2[0:80]\n",
    "y_train=y[0:80]\n",
    "\n",
    "#Data de teste\n",
    "X_test_1=X_1[80:100]\n",
    "X_test_2=X_2[80:100]\n",
    "y_test=y[80:100]"
   ]
  },
  {
   "cell_type": "code",
   "execution_count": 9,
   "metadata": {
    "colab": {
     "base_uri": "https://localhost:8080/",
     "height": 121
    },
    "colab_type": "code",
    "executionInfo": {
     "elapsed": 805,
     "status": "ok",
     "timestamp": 1584859042445,
     "user": {
      "displayName": "edwin mendoza",
      "photoUrl": "https://lh3.googleusercontent.com/a-/AOh14GgYiuSYYdnLb0yvl2k2Dj4GsIz-Vrc1g-3kM66h=s64",
      "userId": "06661154623699995725"
     },
     "user_tz": 300
    },
    "id": "9DqVrsqo_CQJ",
    "outputId": "bdb37864-4c3e-4d70-ded6-6d82ecea3397"
   },
   "outputs": [
    {
     "name": "stdout",
     "output_type": "stream",
     "text": [
      "Resultados en 999 pasos\n",
      "Tangente 1 : 1.5643231618120073\n",
      "Tangente 2 : 4.960667874104868\n",
      "Coeficiente independiente: 2.8959829793028917\n",
      "0.8225356180518143\n",
      "0.8188765586302023\n"
     ]
    }
   ],
   "source": [
    "#Optimizacion por Gradiente Descendente\n",
    "\n",
    "# Definición de los ajustes y parámetros iniciales\n",
    "num_steps = 1000\n",
    "learningRate = 0.1\n",
    "criteria = 1e-8\n",
    "a = 1\n",
    "b_1 = 1\n",
    "b_2 = 1\n",
    "# Proceso iterativo\n",
    "for step in range(0, num_steps):\n",
    "    a_gradient = 0\n",
    "    b_1_gradient = 0\n",
    "    b_2_gradient = 0\n",
    "    N = float(len(X_1_train))\n",
    "    for i in range(0, len(X_1_train)):\n",
    "        a_gradient -= (2/N) * (y_train[i] - (a + b_1 * X_1_train[i]+b_2 * X_2_train[i]))\n",
    "        b_1_gradient -= (2/N) * (y_train[i] - (a + b_1 * X_1_train[i]+b_2 * X_2_train[i])) * X_1_train[i]\n",
    "        b_2_gradient -= (2/N) * (y_train[i] - (a + b_1 * X_1_train[i]+b_2 * X_2_train[i])) * X_2_train[i]\n",
    "\n",
    "\n",
    "    a = a - (learningRate * a_gradient)\n",
    "    b_1 = b_1 - (learningRate * b_1_gradient)\n",
    "    b_2 = b_2 - (learningRate * b_2_gradient)\n",
    "    if max(abs(learningRate * a_gradient), abs(learningRate * b_1_gradient) , abs(learningRate * b_2_gradient) ) < criteria:\n",
    "        break\n",
    "    \n",
    "# Resultados\n",
    "print('Resultados en '+str(step)+ ' pasos')\n",
    "print('Tangente 1 :',b_1)\n",
    "print('Tangente 2 :',b_2)\n",
    "print('Coeficiente independiente:',a)\n",
    "\n",
    "prediccion=a+b_1*X_test_1+b_2*X_test_2\n",
    "prom_y=sum(y_test)/len(y_test)\n",
    "\n",
    "SS_res=sum((y_test-prediccion)**2)\n",
    "SS_tot=sum((y_test-prom_y)**2)\n",
    "\n",
    "R_2=1-(SS_res/SS_tot)\n",
    "R_2_a=1-(1-R_2)*( (100-1)/(100-2-1) )\n",
    "\n",
    "print(R_2)\n",
    "print(R_2_a)"
   ]
  },
  {
   "cell_type": "markdown",
   "metadata": {
    "colab_type": "text",
    "id": "-bumGbjDEvnu"
   },
   "source": [
    "## 2.4 Tarea 2"
   ]
  },
  {
   "cell_type": "markdown",
   "metadata": {
    "colab_type": "text",
    "id": "KG31P7LfE7zW"
   },
   "source": [
    "Crear la data de manera conveniente para una regresion lineal multivariable con las siguientes caracteristicas:\n",
    "\n",
    "\n",
    "*   variables explicativas ( $x_1,x_2,x_3$ )\n",
    "*   varible de respuesta ( $y$ )\n",
    "*   Optimizacion por Gradiente Descendiente\n",
    "*   Tamaño de la muestra ( 80 % train , 20 % test )\n",
    "\n",
    "Implementar un programa que visualice la estabilizacion de los parametros de este modelo en el eje Y , y en el eje X debe estar los numero de pasos para la gradiente descendiente, las cuatro graficas deben estar en una sola. "
   ]
  },
  {
   "cell_type": "code",
   "execution_count": null,
   "metadata": {},
   "outputs": [],
   "source": []
  }
 ],
 "metadata": {
  "colab": {
   "authorship_tag": "ABX9TyOXLVtyiMBJIJxzm/i7xUGr",
   "collapsed_sections": [],
   "name": "2.Regresion Lineal Multivariable.ipynb",
   "provenance": []
  },
  "kernelspec": {
   "display_name": "Python 3",
   "language": "python",
   "name": "python3"
  },
  "language_info": {
   "codemirror_mode": {
    "name": "ipython",
    "version": 3
   },
   "file_extension": ".py",
   "mimetype": "text/x-python",
   "name": "python",
   "nbconvert_exporter": "python",
   "pygments_lexer": "ipython3",
   "version": "3.7.3"
  }
 },
 "nbformat": 4,
 "nbformat_minor": 4
}
